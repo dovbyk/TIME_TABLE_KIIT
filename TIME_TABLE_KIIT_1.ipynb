{
  "nbformat": 4,
  "nbformat_minor": 0,
  "metadata": {
    "colab": {
      "provenance": [],
      "authorship_tag": "ABX9TyPQqGEr49oAO6v5o2OykI9+",
      "include_colab_link": true
    },
    "kernelspec": {
      "name": "python3",
      "display_name": "Python 3"
    },
    "language_info": {
      "name": "python"
    }
  },
  "cells": [
    {
      "cell_type": "markdown",
      "metadata": {
        "id": "view-in-github",
        "colab_type": "text"
      },
      "source": [
        "<a href=\"https://colab.research.google.com/github/satyam26en/TIME_TABLE_KIIT/blob/main/TIME_TABLE_KIIT_1.ipynb\" target=\"_parent\"><img src=\"https://colab.research.google.com/assets/colab-badge.svg\" alt=\"Open In Colab\"/></a>"
      ]
    },
    {
      "cell_type": "code",
      "source": [
        "import pandas as pd\n",
        "\n",
        "# Load the section and professional elective files from GitHub\n",
        "section_url = 'https://raw.githubusercontent.com/satyam26en/TIME_TABLE_KIIT/main/SECTION.csv'\n",
        "elective_url = 'https://raw.githubusercontent.com/satyam26en/TIME_TABLE_KIIT/main/Elective_TIME_TABLE.csv'\n",
        "\n",
        "section_df = pd.read_csv(section_url)\n",
        "elective_df = pd.read_csv(elective_url)\n",
        "\n",
        "# Normalize the 'Roll No.' column to ensure there are no leading/trailing spaces and consistent data type\n",
        "section_df['Roll No.'] = section_df['Roll No.'].astype(str).str.strip()\n",
        "\n",
        "# Function to take roll number input and display the timetable\n",
        "def display_timetable():\n",
        "    # Take roll number input from the user\n",
        "    roll_number = input(\"Enter Roll Number: \").strip()\n",
        "\n",
        "    # Find the section details for the given roll number\n",
        "    student_section = section_df[section_df['Roll No.'] == roll_number]\n",
        "\n",
        "    if student_section.empty:\n",
        "        print(\"Roll number not found.\")\n",
        "        return\n",
        "\n",
        "    # Extract the core section and elective sections\n",
        "    core_section = student_section['Core Section'].values[0]\n",
        "    elective_1_section = student_section['Professional Elective 1'].values[0]\n",
        "    elective_2_section = student_section['Professional Elective 2'].values[0]\n",
        "\n",
        "    # Retrieve the weekly timetable for Professional Electives 1 and 2\n",
        "    elective_1_timetable = elective_df[elective_df['Section(DE)'] == elective_1_section]\n",
        "    elective_2_timetable = elective_df[elective_df['Section(DE)'] == elective_2_section]\n",
        "\n",
        "    # Function to format the timetable\n",
        "    def format_timetable(elective_timetable):\n",
        "        formatted_timetable = []\n",
        "        room_columns = [col for col in elective_df.columns if 'ROOM' in col]\n",
        "        for index, row in elective_timetable.iterrows():\n",
        "            for col in room_columns:\n",
        "                if row[col] != '---':\n",
        "                    time_col = elective_df.columns[elective_df.columns.get_loc(col) + 1]\n",
        "                    time = time_col\n",
        "                    formatted_timetable.append({\n",
        "                        'Day': row['DAY'],\n",
        "                        'Timing': time,\n",
        "                        'Room Number': row[col]\n",
        "                    })\n",
        "        return pd.DataFrame(formatted_timetable)\n",
        "\n",
        "    # Format the timetables\n",
        "    elective_1_formatted = format_timetable(elective_1_timetable)\n",
        "    elective_2_formatted = format_timetable(elective_2_timetable)\n",
        "\n",
        "    # Display the formatted timetables\n",
        "    print(f\"Professional Elective 1 Timetable: {elective_1_section}\")\n",
        "    print(elective_1_formatted.to_string(index=False))\n",
        "    print(f\"\\nProfessional Elective 2 Timetable: {elective_2_section}\")\n",
        "    print(elective_2_formatted.to_string(index=False))\n",
        "\n",
        "# Run the function\n",
        "display_timetable()\n"
      ],
      "metadata": {
        "colab": {
          "base_uri": "https://localhost:8080/"
        },
        "id": "LRYntQwn_wuY",
        "outputId": "e99bd0a8-e68f-4381-c76f-2df605c637d6"
      },
      "execution_count": 17,
      "outputs": [
        {
          "output_type": "stream",
          "name": "stdout",
          "text": [
            "Enter Roll Number: 22051615\n",
            "Professional Elective 1 Timetable: DMDW_CS-5\n",
            "Day   Timing Room Number\n",
            "TUE   4 TO 5       B-203\n",
            "WED 11 TO 12       B-203\n",
            "FRI   1 TO 2       B-203\n",
            "\n",
            "Professional Elective 2 Timetable: DOS_CS-8\n",
            "Day  Timing Room Number\n",
            "MON  4 TO 5       B-402\n",
            "THU  3 TO 4       B-402\n",
            "FRI 12 TO 1       B-402\n"
          ]
        }
      ]
    }
  ]
}