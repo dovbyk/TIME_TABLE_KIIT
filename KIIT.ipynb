{
  "nbformat": 4,
  "nbformat_minor": 0,
  "metadata": {
    "colab": {
      "provenance": [],
      "authorship_tag": "ABX9TyOKBgN2k3t6LgUPMIhX7tzZ",
      "include_colab_link": true
    },
    "kernelspec": {
      "name": "python3",
      "display_name": "Python 3"
    },
    "language_info": {
      "name": "python"
    }
  },
  "cells": [
    {
      "cell_type": "markdown",
      "metadata": {
        "id": "view-in-github",
        "colab_type": "text"
      },
      "source": [
        "<a href=\"https://colab.research.google.com/github/satyam26en/TIME_TABLE_KIIT/blob/main/KIIT.ipynb\" target=\"_parent\"><img src=\"https://colab.research.google.com/assets/colab-badge.svg\" alt=\"Open In Colab\"/></a>"
      ]
    },
    {
      "cell_type": "code",
      "source": [
        "import pandas as pd\n",
        "\n",
        "# Load the section, professional elective, and core section files from GitHub\n",
        "section_url = 'https://raw.githubusercontent.com/satyam26en/TIME_TABLE_KIIT/main/SECTION.csv'\n",
        "elective_url = 'https://raw.githubusercontent.com/satyam26en/TIME_TABLE_KIIT/main/Elective_TIME_TABLE.csv'\n",
        "core_url = 'https://raw.githubusercontent.com/satyam26en/TIME_TABLE_KIIT/main/CORE_TIME_TABLE_2%20-%20Sheet1.csv'\n",
        "\n",
        "section_df = pd.read_csv(section_url)\n",
        "elective_df = pd.read_csv(elective_url)\n",
        "core_df = pd.read_csv(core_url)\n",
        "\n",
        "# Normalize the 'Roll No.' column to ensure there are no leading/trailing spaces and consistent data type\n",
        "section_df['Roll No.'] = section_df['Roll No.'].astype(str).str.strip()\n",
        "\n",
        "# Function to take roll number input and display the timetable\n",
        "def display_timetable():\n",
        "    # Take roll number input from the user\n",
        "    roll_number = input(\"Enter Roll Number: \").strip()\n",
        "\n",
        "    # Find the section details for the given roll number\n",
        "    student_section = section_df[section_df['Roll No.'] == roll_number]\n",
        "\n",
        "    if student_section.empty:\n",
        "        print(\"Roll number not found.\")\n",
        "        return\n",
        "\n",
        "    # Extract the core section and elective sections\n",
        "    core_section = student_section['Core Section'].values[0]\n",
        "    elective_1_section = student_section['Professional Elective 1'].values[0]\n",
        "    elective_2_section = student_section['Professional Elective 2'].values[0]\n",
        "\n",
        "    # Retrieve the weekly timetable for Professional Electives 1 and 2\n",
        "    elective_1_timetable = elective_df[elective_df['Section(DE)'] == elective_1_section]\n",
        "    elective_2_timetable = elective_df[elective_df['Section(DE)'] == elective_2_section]\n",
        "    core_timetable = core_df[core_df['Section'] == core_section]\n",
        "\n",
        "    # Function to format the timetable with subject names\n",
        "    def format_timetable(timetable_df):\n",
        "        formatted_timetable = []\n",
        "        room_columns = [col for col in timetable_df.columns if 'ROOM' in col]\n",
        "        for index, row in timetable_df.iterrows():\n",
        "            for col in room_columns:\n",
        "                if row[col] != '---':\n",
        "                    # Get time column name\n",
        "                    time_col_index = timetable_df.columns.get_loc(col) + 1\n",
        "                    time_col = timetable_df.columns[time_col_index]\n",
        "\n",
        "                    # Get the day and time slot\n",
        "                    day = row['DAY']\n",
        "                    time_slot = time_col\n",
        "\n",
        "                    # Extract the subject name from the intersection of day and time slot\n",
        "                    subject = row.get(time_slot, 'N/A')\n",
        "\n",
        "                    formatted_timetable.append({\n",
        "                        'Day': day,\n",
        "                        'Timing': time_slot,\n",
        "                        'Room Number': row[col],\n",
        "                        'Subject': subject\n",
        "                    })\n",
        "        return pd.DataFrame(formatted_timetable)\n",
        "\n",
        "    # Format the timetables\n",
        "    elective_1_formatted = format_timetable(elective_1_timetable)\n",
        "    elective_2_formatted = format_timetable(elective_2_timetable)\n",
        "    core_formatted = format_timetable(core_timetable)\n",
        "\n",
        "    # Display the formatted timetables\n",
        "    print(f\"Core Section Timetable: {core_section}\")\n",
        "    print(core_formatted.to_string(index=False))\n",
        "    print(f\"\\nProfessional Elective 1 Timetable: {elective_1_section}\")\n",
        "    print(elective_1_formatted.to_string(index=False))\n",
        "    print(f\"\\nProfessional Elective 2 Timetable: {elective_2_section}\")\n",
        "    print(elective_2_formatted.to_string(index=False))\n",
        "\n",
        "# Run the function\n",
        "display_timetable()\n"
      ],
      "metadata": {
        "colab": {
          "base_uri": "https://localhost:8080/"
        },
        "id": "NuHkHqFddVlR",
        "outputId": "f7d22244-032a-4010-f1e6-85da70a20698"
      },
      "execution_count": 46,
      "outputs": [
        {
          "output_type": "stream",
          "name": "stdout",
          "text": [
            "Enter Roll Number: 22051615\n",
            "Core Section Timetable: CSE-15\n",
            "Day   Timing Room Number Subject\n",
            "MON   8 TO 9       B-302      CN\n",
            "MON 9  TO 10       B-302      EE\n",
            "MON 10 TO 11       B-302     DAA\n",
            "MON 11 TO 12    A-DL-102      SE\n",
            "MON  12 TO 1    A-DL-102   CN(L)\n",
            "MON   1 TO 2    A-DL-102   CN(L)\n",
            "TUE 11 TO 12       B-301      CN\n",
            "TUE  12 TO 1       B-301     DAA\n",
            "TUE   1 TO 2       B-301      EE\n",
            "WED   8 TO 9       B-403      SE\n",
            "WED 9  TO 10    A-DL-108  DAA(L)\n",
            "WED 10 TO 11    A-DL-108  DAA(L)\n",
            "FRI   8 TO 9       B-305     DAA\n",
            "FRI 9  TO 10       B-305      SE\n",
            "FRI 10 TO 11       B-305      EE\n",
            "SAT 9  TO 10       B-302       X\n",
            "SAT 10 TO 11       B-302      SE\n",
            "SAT 11 TO 12    A-LH-009      CN\n",
            "\n",
            "Professional Elective 1 Timetable: DMDW_CS-5\n",
            "Day   Timing Room Number  Subject\n",
            "TUE   4 TO 5       B-203 DMDW(DE)\n",
            "WED 11 TO 12       B-203 DMDW(DE)\n",
            "FRI   1 TO 2       B-203 DMDW(DE)\n",
            "\n",
            "Professional Elective 2 Timetable: DOS_CS-8\n",
            "Day  Timing Room Number Subject\n",
            "MON  4 TO 5       B-402 DOS(DE)\n",
            "THU  3 TO 4       B-402 DOS(DE)\n",
            "FRI 12 TO 1       B-402 DOS(DE)\n"
          ]
        }
      ]
    }
  ]
}